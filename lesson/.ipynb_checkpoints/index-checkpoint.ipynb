{
 "cells": [
  {
   "cell_type": "markdown",
   "id": "b97728fa-fdbd-44fa-a77d-8ffe7c7ad385",
   "metadata": {},
   "source": [
    "# Building Tic Tac Toe"
   ]
  },
  {
   "cell_type": "markdown",
   "id": "09dbed66-1e2b-4327-9c84-1aed3c91c674",
   "metadata": {},
   "source": [
    "### Introduction"
   ]
  },
  {
   "cell_type": "markdown",
   "id": "49fa8083-c644-46ee-bb43-190c5c1fd8a4",
   "metadata": {},
   "source": [
    "In this lesson, we'll use what we have learned to build a tic tac toe project.  \n",
    "\n",
    "### Goals\n",
    "\n",
    "A good project should have:\n",
    "\n",
    "* 4 - 5 models,\n",
    "* a `store`,\n",
    "* a service object (where procedures of beginning a game, or taking turns occurs),\n",
    "* and tests"
   ]
  },
  {
   "cell_type": "markdown",
   "id": "db773618-ce08-4eee-8dda-eff08e5f89f0",
   "metadata": {},
   "source": [
    "### Steps"
   ]
  },
  {
   "cell_type": "markdown",
   "id": "f3f66d03-2a73-4904-b34f-a0b23cd7917d",
   "metadata": {},
   "source": [
    "Throughout the project, use the Netflix lab as a model for how to set up your project, tests, and relations between the objects.\n",
    "\n",
    "1. Data Modeling \n",
    "\n",
    "To begin, write down a list of all of the potential models, and the relations between them.\n",
    "\n",
    "2. Building Models\n",
    "\n",
    "Then begin to build out these models, the storage of objects in the `store`, and the relational methods (eg. `user.games()`).  Along the way, write some tests -- especially for the relational methods.\n",
    "\n",
    "3. Services\n",
    "\n",
    "Afterwards, you can move onto the services folder, which should contain logic for the playing of the game."
   ]
  },
  {
   "cell_type": "code",
   "execution_count": null,
   "id": "17403f0c-8b30-41a9-a13c-b3a3be76366e",
   "metadata": {},
   "outputs": [],
   "source": []
  }
 ],
 "metadata": {
  "kernelspec": {
   "display_name": "Python 3 (ipykernel)",
   "language": "python",
   "name": "python3"
  },
  "language_info": {
   "codemirror_mode": {
    "name": "ipython",
    "version": 3
   },
   "file_extension": ".py",
   "mimetype": "text/x-python",
   "name": "python",
   "nbconvert_exporter": "python",
   "pygments_lexer": "ipython3",
   "version": "3.9.12"
  }
 },
 "nbformat": 4,
 "nbformat_minor": 5
}
